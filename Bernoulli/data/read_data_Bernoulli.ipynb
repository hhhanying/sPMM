{
 "cells": [
  {
   "cell_type": "code",
   "execution_count": 3,
   "id": "f5be25ff",
   "metadata": {},
   "outputs": [],
   "source": [
    "res = \"alpha_p, beta_p, d, k0, k1, nlabel, ntrace, nchain, nskip, N, Nfold, a, supervised_1, supervised_2, supervised_3, supervised_4, supervised_5, unsupervised_1, unsupervised_2, unsupervised_3, unsupervised_4, unsupervised_5\\n\"\n",
    "save_to = \"C:/Users/Patron/Desktop/Ber_res/Bernoulli_simulation/res_d100.csv\"\n",
    "\n",
    "foldername = \"C:/Users/Patron/Desktop/Ber_res/Bernoulli_simulation/d100/\"\n",
    "# confi_file = foldername + \"configurations.csv\"\n",
    "result_file = foldername + \"output{}.txt\"\n",
    "# out_file = foldername + \"out{}.out\"\n",
    "for index in range(1,169):\n",
    "    try: \n",
    "        f = open(result_file.format(str(index)),\"r\")\n",
    "        x = f.readlines()[1]\n",
    "        f.close()\n",
    "        res += x\n",
    "    except:\n",
    "        1\n",
    "        \n",
    "f = open(save_to, \"w\")\n",
    "f.write(res)\n",
    "f.close()    \n",
    "\n"
   ]
  },
  {
   "cell_type": "code",
   "execution_count": 4,
   "id": "d7b99288",
   "metadata": {},
   "outputs": [],
   "source": [
    "res = \"alpha_p, beta_p, d, k0, k1, nlabel, ntrace, nchain, nskip, N, Nfold, a, supervised_1, supervised_2, supervised_3, supervised_4, supervised_5, unsupervised_1, unsupervised_2, unsupervised_3, unsupervised_4, unsupervised_5\\n\"\n",
    "save_to = \"C:/Users/Patron/Desktop/Ber_res/Bernoulli_simulation/res_random.csv\"\n",
    "foldername = \"C:/Users/Patron/Desktop/Ber_res/Bernoulli_simulation/random/\"\n",
    "result_file = foldername + \"output{}.txt\"\n",
    "for index in range(1,601):\n",
    "    try: \n",
    "        f = open(result_file.format(str(index)),\"r\")\n",
    "        x = f.readlines()[1]\n",
    "        f.close()\n",
    "        res += x\n",
    "    except:\n",
    "        1\n",
    "        \n",
    "f = open(save_to, \"w\")\n",
    "f.write(res)\n",
    "f.close()    \n",
    "\n"
   ]
  },
  {
   "cell_type": "code",
   "execution_count": 5,
   "id": "39fd92cb",
   "metadata": {},
   "outputs": [],
   "source": [
    "res = \"alpha_p, beta_p, d, k0, k1, nlabel, ntrace, nchain, nskip, N, Nfold, a, supervised_1, supervised_2, supervised_3, supervised_4, supervised_5, unsupervised_1, unsupervised_2, unsupervised_3, unsupervised_4, unsupervised_5\\n\"\n",
    "save_to = \"C:/Users/Patron/Desktop/Ber_res/Bernoulli_simulation/res_fix_ntopic.csv\"\n",
    "foldername = \"C:/Users/Patron/Desktop/Ber_res/Bernoulli_simulation/fix_ntopic/\"\n",
    "result_file = foldername + \"output{}.txt\"\n",
    "for index in range(1,400):\n",
    "    try: \n",
    "        f = open(result_file.format(str(index)),\"r\")\n",
    "        x = f.readlines()[1]\n",
    "        f.close()\n",
    "        res += x\n",
    "    except:\n",
    "        1\n",
    "        \n",
    "f = open(save_to, \"w\")\n",
    "f.write(res)\n",
    "f.close()    \n",
    "\n"
   ]
  },
  {
   "cell_type": "code",
   "execution_count": null,
   "id": "831b27f5",
   "metadata": {},
   "outputs": [],
   "source": []
  },
  {
   "cell_type": "code",
   "execution_count": null,
   "id": "23b83007",
   "metadata": {},
   "outputs": [],
   "source": []
  }
 ],
 "metadata": {
  "kernelspec": {
   "display_name": "Python 3 (ipykernel)",
   "language": "python",
   "name": "python3"
  },
  "language_info": {
   "codemirror_mode": {
    "name": "ipython",
    "version": 3
   },
   "file_extension": ".py",
   "mimetype": "text/x-python",
   "name": "python",
   "nbconvert_exporter": "python",
   "pygments_lexer": "ipython3",
   "version": "3.9.7"
  }
 },
 "nbformat": 4,
 "nbformat_minor": 5
}
