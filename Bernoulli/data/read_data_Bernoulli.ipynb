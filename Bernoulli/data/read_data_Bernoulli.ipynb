{
 "cells": [
  {
   "cell_type": "code",
   "execution_count": 2,
   "id": "f5be25ff",
   "metadata": {},
   "outputs": [],
   "source": [
    "res = \"alpha_p, beta_p, d, k0, k1, nlabel, ntrace, nchain, nskip, Ntrain, Ntest, Nfold, a, supervised, unsupervisedsupervised_1, supervised_2, supervised_3, supervised_4, supervised_5, unsupervised_1, unsupervised_2, unsupervised_3, unsupervised_4, unsupervised_5\\n\"\n",
    "save_to = \"/Users/Patron/Documents/Bernoulli/data/res_d100.csv\"\n",
    "\n",
    "foldername = \"/Users/Patron/Documents/Bernoulli/submit_CHTC/d100/\"\n",
    "result_file = foldername + \"d100{}.txt\"\n",
    "# out_file = foldername + \"out{}.out\"\n",
    "for index in range(1,169):\n",
    "    try: \n",
    "        f = open(result_file.format(str(index)),\"r\")\n",
    "        x = f.readlines()[1]\n",
    "        f.close()\n",
    "        res += x\n",
    "    except:\n",
    "        1\n",
    "        \n",
    "f = open(save_to, \"w\")\n",
    "f.write(res)\n",
    "f.close()    \n",
    "\n"
   ]
  },
  {
   "cell_type": "code",
   "execution_count": 3,
   "id": "d7b99288",
   "metadata": {},
   "outputs": [],
   "source": [
    "res = \"alpha_p, beta_p, d, k0, k1, nlabel, ntrace, nchain, nskip, Ntrain, Ntest, Nfold, a, supervised, unsupervisedsupervised_1, supervised_2, supervised_3, supervised_4, supervised_5, unsupervised_1, unsupervised_2, unsupervised_3, unsupervised_4, unsupervised_5\\n\"\n",
    "save_to = \"/Users/Patron/Documents/Bernoulli/data/res_random.csv\"\n",
    "\n",
    "foldername = \"/Users/Patron/Documents/Bernoulli/submit_CHTC/random/\"\n",
    "result_file = foldername + \"random{}.txt\"\n",
    "\n",
    "for index in range(1,600):\n",
    "    try: \n",
    "        f = open(result_file.format(str(index)),\"r\")\n",
    "        x = f.readlines()[1]\n",
    "        f.close()\n",
    "        res += x\n",
    "    except:\n",
    "        1\n",
    "        \n",
    "f = open(save_to, \"w\")\n",
    "f.write(res)\n",
    "f.close()   \n"
   ]
  },
  {
   "cell_type": "code",
   "execution_count": 4,
   "id": "39fd92cb",
   "metadata": {},
   "outputs": [],
   "source": [
    "res = \"alpha_p, beta_p, d, k0, k1, nlabel, ntrace, nchain, nskip, Ntrain, Ntest, Nfold, a, supervised, unsupervisedsupervised_1, supervised_2, supervised_3, supervised_4, supervised_5, unsupervised_1, unsupervised_2, unsupervised_3, unsupervised_4, unsupervised_5\\n\"\n",
    "save_to = \"/Users/Patron/Documents/Bernoulli/data/res_fix_ntopic.csv\"\n",
    "\n",
    "foldername = \"/Users/Patron/Documents/Bernoulli/submit_CHTC/fix_ntopic/\"\n",
    "result_file = foldername + \"fix_ntopic{}.txt\"\n",
    "\n",
    "for index in range(1, 390):\n",
    "    try: \n",
    "        f = open(result_file.format(str(index)),\"r\")\n",
    "        x = f.readlines()[1]\n",
    "        f.close()\n",
    "        res += x\n",
    "    except:\n",
    "        1\n",
    "        \n",
    "f = open(save_to, \"w\")\n",
    "f.write(res)\n",
    "f.close()    \n",
    "\n"
   ]
  },
  {
   "cell_type": "code",
   "execution_count": null,
   "id": "831b27f5",
   "metadata": {},
   "outputs": [],
   "source": []
  },
  {
   "cell_type": "code",
   "execution_count": null,
   "id": "23b83007",
   "metadata": {},
   "outputs": [],
   "source": []
  }
 ],
 "metadata": {
  "kernelspec": {
   "display_name": "Python 3 (ipykernel)",
   "language": "python",
   "name": "python3"
  },
  "language_info": {
   "codemirror_mode": {
    "name": "ipython",
    "version": 3
   },
   "file_extension": ".py",
   "mimetype": "text/x-python",
   "name": "python",
   "nbconvert_exporter": "python",
   "pygments_lexer": "ipython3",
   "version": "3.10.2"
  }
 },
 "nbformat": 4,
 "nbformat_minor": 5
}
