{
 "cells": [
  {
   "cell_type": "code",
   "execution_count": 2,
   "metadata": {},
   "outputs": [],
   "source": [
    "import numpy as np\n",
    "from numpy import genfromtxt"
   ]
  },
  {
   "cell_type": "code",
   "execution_count": 8,
   "metadata": {},
   "outputs": [
    {
     "ename": "NameError",
     "evalue": "name 'Tau' is not defined",
     "output_type": "error",
     "traceback": [
      "\u001b[0;31m---------------------------------------------------------------------------\u001b[0m",
      "\u001b[0;31mNameError\u001b[0m                                 Traceback (most recent call last)",
      "Input \u001b[0;32mIn [8]\u001b[0m, in \u001b[0;36m<module>\u001b[0;34m\u001b[0m\n\u001b[1;32m     12\u001b[0m \u001b[38;5;28;01mfor\u001b[39;00m j \u001b[38;5;129;01min\u001b[39;00m \u001b[38;5;28mrange\u001b[39m(d):\n\u001b[1;32m     13\u001b[0m     lambdax \u001b[38;5;241m=\u001b[39m np\u001b[38;5;241m.\u001b[39mdot(u, Lambda[:, j])\n\u001b[0;32m---> 14\u001b[0m     taux \u001b[38;5;241m=\u001b[39m np\u001b[38;5;241m.\u001b[39mdot(u, \u001b[43mTau\u001b[49m[:, j])\n\u001b[1;32m     15\u001b[0m     sx \u001b[38;5;241m=\u001b[39m \u001b[38;5;241m1\u001b[39m \u001b[38;5;241m/\u001b[39m lambdax\n\u001b[1;32m     16\u001b[0m     mux \u001b[38;5;241m=\u001b[39m sx \u001b[38;5;241m*\u001b[39m taux\n",
      "\u001b[0;31mNameError\u001b[0m: name 'Tau' is not defined"
     ]
    }
   ],
   "source": [
    "k0 = 1\n",
    "su_dir = '../res/submit_CHTC/supervised/wholeset/model{}/'.format(k0)\n",
    "un_dir = '../res/submit_CHTC/unsupervised/wholeset/model{}/'.format(k0)\n",
    "U = genfromtxt(su_dir+\"U.csv\", delimiter=',')\n",
    "mu = genfromtxt(su_dir+\"Mu.csv\", delimiter=',')\n",
    "Lambda = genfromtxt(su_dir+\"Lambda.csv\", delimiter=',')\n",
    "Tau = mu * Lambda\n",
    "N = U.shape[0]\n",
    "d = mu.shape[1]\n",
    "X = np.zeros((N, d))\n",
    "for i in range(N):\n",
    "    u = U[i]\n",
    "    for j in range(d):\n",
    "        lambdax = np.dot(u, Lambda[:, j])\n",
    "        taux = np.dot(u, Tau[:, j])\n",
    "        sx = 1 / lambdax\n",
    "        mux = sx * taux\n",
    "        X[i][j] = np.random.normal(mux, np.sqrt(sx))\n",
    "np.savetxt('simulated/supervised1.csv', X, delimiter = ',')\n",
    "\n",
    "U = genfromtxt(un_dir+\"U.csv\", delimiter=',')\n",
    "mu = genfromtxt(un_dir+\"Mu.csv\", delimiter=',')\n",
    "Lambda = genfromtxt(un_dir+\"Lambda.csv\", delimiter=',')\n",
    "Tau = mu * Lambda\n",
    "N = U.shape[0]\n",
    "d = mu.shape[1]\n",
    "X = np.zeros((N, d))\n",
    "for i in range(N):\n",
    "    u = U[i]\n",
    "    for j in range(d):\n",
    "        lambdax = np.dot(u, Lambda[:, j])\n",
    "        taux = np.dot(u, Tau[:, j])\n",
    "        sx = 1 / lambdax\n",
    "        mux = sx * taux\n",
    "        X[i][j] = np.random.normal(mux, np.sqrt(sx))\n",
    "np.savetxt('simulated/unsupervised1.csv', X, delimiter = ',')"
   ]
  },
  {
   "cell_type": "code",
   "execution_count": 7,
   "metadata": {},
   "outputs": [
    {
     "data": {
      "text/plain": [
       "array([0.88131892, 0.00435021, 0.00133259, 0.00501131, 0.10798696])"
      ]
     },
     "execution_count": 7,
     "metadata": {},
     "output_type": "execute_result"
    }
   ],
   "source": [
    "a=genfromtxt(su_dir+\"U.csv\", delimiter=',')\n",
    "a.shape\n",
    "a[0,]"
   ]
  }
 ],
 "metadata": {
  "interpreter": {
   "hash": "aee8b7b246df8f9039afb4144a1f6fd8d2ca17a180786b69acc140d282b71a49"
  },
  "kernelspec": {
   "display_name": "Python 3.10.2 64-bit",
   "language": "python",
   "name": "python3"
  },
  "language_info": {
   "codemirror_mode": {
    "name": "ipython",
    "version": 3
   },
   "file_extension": ".py",
   "mimetype": "text/x-python",
   "name": "python",
   "nbconvert_exporter": "python",
   "pygments_lexer": "ipython3",
   "version": "3.10.2"
  },
  "orig_nbformat": 4
 },
 "nbformat": 4,
 "nbformat_minor": 2
}
