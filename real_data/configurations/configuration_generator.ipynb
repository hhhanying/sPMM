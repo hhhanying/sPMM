{
 "cells": [
  {
   "cell_type": "code",
   "execution_count": 2,
   "id": "17f803cd",
   "metadata": {},
   "outputs": [],
   "source": [
    "header = \"k0, k1, which_index\"\n",
    "para = [] \n",
    "for i in range(1,16):\n",
    "    for j in range(5):\n",
    "        para.append([i,i,j])\n",
    "with open(\"configurations_MOFA.csv\", \"w\") as f:\n",
    "    f.write(header)\n",
    "    f.write(\"\\n\")\n",
    "    for i in range(len(para)):\n",
    "        tem = [str(char) for char in para[i]]\n",
    "        f.write(\",\".join(tem))\n",
    "        f.write(\"\\n\")\n"
   ]
  },
  {
   "cell_type": "code",
   "execution_count": 1,
   "id": "f14bbd69",
   "metadata": {},
   "outputs": [],
   "source": [
    "# confi 2 will lead to train/test on the whole dataset\n",
    "header = \"k0, k1, which_index\"\n",
    "para = [] \n",
    "for i in range(1,16):\n",
    "    para.append([i,i,6])\n",
    "with open(\"configurations_MOFA2.csv\", \"w\") as f:\n",
    "    f.write(header)\n",
    "    f.write(\"\\n\")\n",
    "    for i in range(len(para)):\n",
    "        tem = [str(char) for char in para[i]]\n",
    "        f.write(\",\".join(tem))\n",
    "        f.write(\"\\n\")\n"
   ]
  },
  {
   "cell_type": "code",
   "execution_count": null,
   "id": "5f74e1da",
   "metadata": {},
   "outputs": [],
   "source": []
  },
  {
   "cell_type": "code",
   "execution_count": null,
   "id": "f07ea3d2",
   "metadata": {},
   "outputs": [],
   "source": []
  }
 ],
 "metadata": {
  "kernelspec": {
   "display_name": "Python 3 (ipykernel)",
   "language": "python",
   "name": "python3"
  },
  "language_info": {
   "codemirror_mode": {
    "name": "ipython",
    "version": 3
   },
   "file_extension": ".py",
   "mimetype": "text/x-python",
   "name": "python",
   "nbconvert_exporter": "python",
   "pygments_lexer": "ipython3",
   "version": "3.10.2"
  }
 },
 "nbformat": 4,
 "nbformat_minor": 5
}
