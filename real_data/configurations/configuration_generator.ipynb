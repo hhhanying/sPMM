{
 "cells": [
  {
   "cell_type": "code",
   "execution_count": 2,
   "id": "17f803cd",
   "metadata": {},
   "outputs": [],
   "source": [
    "header = \"k0, k1, which_index\"\n",
    "para = [] \n",
    "for i in range(1,16):\n",
    "    for j in range(5):\n",
    "        para.append([i,i,j])\n",
    "with open(\"configurations_MOFA.csv\", \"w\") as f:\n",
    "    f.write(header)\n",
    "    f.write(\"\\n\")\n",
    "    for i in range(len(para)):\n",
    "        tem = [str(char) for char in para[i]]\n",
    "        f.write(\",\".join(tem))\n",
    "        f.write(\"\\n\")\n"
   ]
  },
  {
   "cell_type": "markdown",
   "id": "b8f576ba",
   "metadata": {},
   "source": [
    "## Fix number of topics\n",
    "- Fix k0 = 2, k1 = 5.\n",
    "- Try d = 20, 40, 60, 80, 100.\n",
    "- Increase nlabel from 2 to the max number that ensures K<=d. Stepsize = 2\n",
    "- The number of replicas = 2.\n"
   ]
  },
  {
   "cell_type": "code",
   "execution_count": 31,
   "id": "f4a52493",
   "metadata": {},
   "outputs": [],
   "source": [
    "header = \"mu_Mu, sigma2_Mu, alpha_Lambda, beta_Lambda, d, k0, k1, nlabel, ntrace, nchain, nskip, Ntrain, Ntest, Nfold\"\n",
    "\n",
    "para = [] \n",
    "# fixed parameters\n",
    "ntrace = 1000\n",
    "nchain = 2\n",
    "nskip = 2\n",
    "Ntrain = 500\n",
    "Ntest = 100\n",
    "Nfold = 5\n",
    "k0, k1 = 2, 5\n",
    "mu_Mu, sigma2_Mu, alpha_Lambda, beta_Lambda = 0, 5, 2, 4\n",
    "\n",
    "for d in [20, 40, 60, 80, 100]: # dimension\n",
    "    max_nlabel = (d - k1)//k0\n",
    "    for nlabel in range(2, max_nlabel+1, 2):\n",
    "        para.append([mu_Mu, sigma2_Mu, alpha_Lambda, beta_Lambda, d, k0, k1, nlabel, ntrace, nchain, nskip, Ntrain, Ntest, Nfold]) \n",
    "        para.append([mu_Mu, sigma2_Mu, alpha_Lambda, beta_Lambda, d, k0, k1, nlabel, ntrace, nchain, nskip, Ntrain, Ntest, Nfold]) \n",
    "            \n",
    "with open(\"configurations_fix_ntopic.csv\", \"w\") as f:\n",
    "    f.write(header)\n",
    "    f.write(\"\\n\")\n",
    "    for i in range(len(para)):\n",
    "        tem = [str(char) for char in para[i]]\n",
    "        f.write(\",\".join(tem))\n",
    "        f.write(\"\\n\")            \n"
   ]
  },
  {
   "cell_type": "markdown",
   "id": "716a98e3",
   "metadata": {},
   "source": [
    "## Fix dimension\n",
    "- Fix d = 100.\n",
    "- Fix alpha_p = (1, 1).\n",
    "- Try k0, k1 = 2, 5, 10"
   ]
  },
  {
   "cell_type": "code",
   "execution_count": 30,
   "id": "4373581f",
   "metadata": {},
   "outputs": [],
   "source": [
    "header = \"mu_Mu, sigma2_Mu, alpha_Lambda, beta_Lambda, d, k0, k1, nlabel, ntrace, nchain, nskip, Ntrain, Ntest, Nfold\"\n",
    "\n",
    "para = [] \n",
    "# fixed parameters\n",
    "ntrace = 1000\n",
    "nchain = 2\n",
    "nskip = 2\n",
    "Ntrain = 500\n",
    "Ntest = 100\n",
    "Nfold = 5\n",
    "mu_Mu, sigma2_Mu, alpha_Lambda, beta_Lambda = 0, 5, 2, 4\n",
    "d = 100\n",
    "\n",
    "for k0 in [2, 5, 10]:\n",
    "    for k1 in [2, 5, 10]:\n",
    "        if (k0, k1) == (2, 5): continue\n",
    "        max_nlabel = (d - k1)//k0\n",
    "        for nlabel in range(2, max_nlabel+1, 2):\n",
    "            para.append([mu_Mu, sigma2_Mu, alpha_Lambda, beta_Lambda, d, k0, k1, nlabel, ntrace, nchain, nskip, Ntrain, Ntest, Nfold]) \n",
    "            para.append([mu_Mu, sigma2_Mu, alpha_Lambda, beta_Lambda, d, k0, k1, nlabel, ntrace, nchain, nskip, Ntrain, Ntest, Nfold]) \n",
    "            \n",
    "with open(\"configurations_d100.csv\", \"w\") as f:\n",
    "    f.write(header)\n",
    "    f.write(\"\\n\")\n",
    "    for i in range(len(para)):\n",
    "        tem = [str(char) for char in para[i]]\n",
    "        f.write(\",\".join(tem))\n",
    "        f.write(\"\\n\")            "
   ]
  },
  {
   "cell_type": "markdown",
   "id": "1c5c6dbc",
   "metadata": {},
   "source": [
    "## random configurations"
   ]
  },
  {
   "cell_type": "code",
   "execution_count": 32,
   "id": "a093fd40",
   "metadata": {},
   "outputs": [],
   "source": [
    "# random parameter\n",
    "import numpy as np\n",
    "import random\n",
    "\n",
    "header = \"mu_Mu, sigma2_Mu, alpha_Lambda, beta_Lambda, d, k0, k1, nlabel, ntrace, nchain, nskip, Ntrain, Ntest, Nfold\"\n",
    "\n",
    "para = [] \n",
    "\n",
    "# fixed parameters\n",
    "ntrace = 500\n",
    "nchain = 2\n",
    "nskip = 2\n",
    "Ntrain = 200\n",
    "Ntest = 100\n",
    "Nfold = 5\n",
    "mu_Mu = 0\n",
    "for i in range(600):\n",
    "    d = np.random.randint(low = 20, high = 200, size=1)[0]\n",
    "    nlabel = np.random.randint(low = 2, high = 11, size=1)[0]\n",
    "    \n",
    "    max_k0 = (d-1)//nlabel\n",
    "    k0 = np.random.randint(low = 1, high = max_k0+1, size=1)[0]\n",
    "    k1 = np.random.randint(low = 1, high = d-k0*nlabel+1, size=1)[0]\n",
    "\n",
    "    alpha_Lambda = np.random.uniform(1,10,1)[0]\n",
    "    beta_Lambda = np.random.uniform(0,10,1)[0]\n",
    "    sigma2_Mu = np.random.uniform(0,100,1)[0] * (alpha_Lambda - 1) / beta_Lambda\n",
    "    \n",
    "    para.append([mu_Mu, sigma2_Mu, alpha_Lambda, beta_Lambda, d, k0, k1, nlabel, ntrace, nchain, nskip, Ntrain, Ntest, Nfold]) \n",
    "\n",
    "with open(\"configurations_random.csv\", \"w\") as f:\n",
    "    f.write(header)\n",
    "    f.write(\"\\n\")\n",
    "    for i in range(len(para)):\n",
    "        tem = [str(char) for char in para[i]]\n",
    "        f.write(\",\".join(tem))\n",
    "        f.write(\"\\n\")            "
   ]
  },
  {
   "cell_type": "code",
   "execution_count": null,
   "id": "f14bbd69",
   "metadata": {},
   "outputs": [],
   "source": []
  },
  {
   "cell_type": "code",
   "execution_count": null,
   "id": "5f74e1da",
   "metadata": {},
   "outputs": [],
   "source": []
  },
  {
   "cell_type": "code",
   "execution_count": null,
   "id": "f07ea3d2",
   "metadata": {},
   "outputs": [],
   "source": []
  }
 ],
 "metadata": {
  "kernelspec": {
   "display_name": "Python 3 (ipykernel)",
   "language": "python",
   "name": "python3"
  },
  "language_info": {
   "codemirror_mode": {
    "name": "ipython",
    "version": 3
   },
   "file_extension": ".py",
   "mimetype": "text/x-python",
   "name": "python",
   "nbconvert_exporter": "python",
   "pygments_lexer": "ipython3",
   "version": "3.10.2"
  }
 },
 "nbformat": 4,
 "nbformat_minor": 5
}
