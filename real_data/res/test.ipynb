{
 "cells": [
  {
   "cell_type": "code",
   "execution_count": 1,
   "metadata": {},
   "outputs": [],
   "source": [
    "import json\n",
    "import numpy as np\n",
    "\n",
    "indexes = [[1, 15, 13, 12,  8, 25, 28, 50, 41, 35, 34, 54],\n",
    "[16,  3, 18, 19, 21, 30, 24 ,51, 47, 46, 33, 55],\n",
    "[17,  0, 11 , 6 ,29 ,23 ,44 ,39 ,43 ,40, 53],\n",
    "[10,  4,  9 , 2 ,26 ,27 ,38 ,36, 32, 42 ,52],\n",
    "[5 ,22 ,20, 14 , 7 ,31 ,45, 37, 48, 49, 56]]\n",
    "\n",
    "train_indexes = [[] for i in range(5)]\n",
    "\n",
    "for i in range(57):\n",
    "    for j in range(5):\n",
    "        if i not in set(indexes[j]):\n",
    "            train_indexes[j].append(i)\n",
    "\n",
    "nlabel = 4\n",
    "\n",
    "# read result\n",
    "with open(\"./res.txt\", \"r\") as f:\n",
    "    x = f.read()\n",
    "res = json.loads(x)\n",
    "\n",
    "# read real data\n",
    "data_file  = \"../data/cleaned_data.csv\"\n",
    "with open(data_file,\"r\") as f:\n",
    "    x = f.readlines()\n",
    "\n",
    "X = []\n",
    "Y = []\n",
    "for i in range(1, len(x)):\n",
    "    tem = x[i].strip().split(\",\")\n",
    "    X.append([float(j) for j in tem[1:-1]])\n",
    "    Y.append(int(tem[-1]))\n",
    "X = np.array(X)\n",
    "Y = np.array(Y)"
   ]
  },
  {
   "cell_type": "code",
   "execution_count": 6,
   "metadata": {},
   "outputs": [],
   "source": [
    "import json\n",
    "import numpy as np\n",
    "with open(\"./res.txt\", \"r\") as f:\n",
    "    x = f.read()\n",
    "res = json.loads(x)\n",
    "estimate=res[\"supervised\"][\"1\"][\"0\"][\"estimation\"]\n",
    "a = estimate[\"a\"]\n",
    "Mu1_, Lambda1_, Mu2_, Lambda2_, Mu3_, Lambda3_ = [ np.array(i) for i in [estimate[\"Mu1\"], estimate[\"Lambda1\"], estimate[\"Mu2\"], estimate[\"Lambda2\"], estimate[\"Mu3\"], estimate[\"Lambda3\"]]]\n",
    "Tau1_, Tau2_, Tau3_ = Mu1_*Lambda1_, Mu2_*Lambda2_, Mu3_*Lambda3_"
   ]
  },
  {
   "cell_type": "code",
   "execution_count": 9,
   "metadata": {},
   "outputs": [
    {
     "data": {
      "text/plain": [
       "array([0.025, 0.025, 0.025, 0.025, 0.025, 0.025, 0.025, 0.025, 0.025,\n",
       "       0.025, 0.025, 0.025, 0.025, 0.025, 0.025, 0.025, 0.025, 0.025,\n",
       "       0.025, 0.025, 0.1  , 0.1  , 0.1  , 0.1  , 0.1  ])"
      ]
     },
     "execution_count": 9,
     "metadata": {},
     "output_type": "execute_result"
    }
   ],
   "source": [
    "k0 = k1 = 5\n",
    "nlabel = 4\n",
    "rho = np.array([1/2/nlabel/k0] * nlabel*k0 + [1/2/k1] * k1)\n",
    "rho"
   ]
  },
  {
   "cell_type": "code",
   "execution_count": 58,
   "metadata": {},
   "outputs": [
    {
     "data": {
      "text/plain": [
       "array([ 0.78431502,  0.60983357,  0.9687263 ,  0.93286669,  1.19720782,\n",
       "        0.81729278,  0.73858037,  0.82358953,  0.85713168,  0.92070883,\n",
       "        1.01827568,  1.05548863,  1.10888022,  1.04820223,  1.12953287,\n",
       "        1.41359483,  1.55755672,  1.34282399,  1.35628464,  1.30696795,\n",
       "        1.69102558,  1.48587229,  1.57614979,  1.75561954,  2.02041916,\n",
       "        1.95938066,  2.0476556 ,  2.25387272,  1.93755584,  1.93433722,\n",
       "        2.45891321,  2.38960788,  2.56750926,  2.53065086,  2.41874699,\n",
       "        2.9361128 ,  2.69950931,  2.87239162,  2.94896974,  3.08472202,\n",
       "        3.60108115,  2.87633681,  3.12085707,  3.15200802,  3.76393829,\n",
       "        4.2018771 ,  2.98315009,  4.88658776,  3.58717019,  3.84147616,\n",
       "        5.45762368,  3.8960118 ,  4.08416581,  4.07784806,  4.44044025,\n",
       "        6.1268477 ,  3.71490539,  6.27006789,  4.72538159,  4.52204574,\n",
       "        6.85594468,  5.29962716,  6.93397361,  7.06766467,  7.40578996,\n",
       "        7.55487152,  6.47633182,  7.14807331,  6.72386349,  4.96316967,\n",
       "        7.17335088,  5.09861554,  7.66842618,  7.52100233,  9.48917387,\n",
       "        0.86450852,  0.89825579,  0.90319283,  0.90452999,  0.94167075,\n",
       "        1.76847831,  1.83054528,  1.72975142,  1.76439969,  1.75160601,\n",
       "        2.79917534,  2.44019618,  2.60636037,  2.35767168,  2.42739504,\n",
       "        3.45283278,  3.71439974,  3.72925342,  3.51536148,  3.88934945,\n",
       "        6.26365493,  4.47120071,  4.55669459,  4.77924545,  4.64756703,\n",
       "        6.58372562,  5.98611734,  5.70067448,  5.93502517,  6.2349857 ,\n",
       "        8.79273576,  7.92285125,  6.24862953,  8.0518178 ,  7.34531792,\n",
       "        9.39842878,  9.66545396,  7.93190929, 10.01830465,  9.10896077,\n",
       "       11.61493997, 11.15091989, 10.9923818 , 12.6327051 , 12.87404763,\n",
       "       21.19393997, 11.45074996, 12.57053094, 12.45289737, 13.30885639,\n",
       "       20.14191897, 13.14618902, 19.98890879, 16.13318071, 13.11669598,\n",
       "       27.38540556, 19.79418488, 50.95919972, 50.04733348, 82.77132066,\n",
       "       51.04019838, 30.0849506 , 79.95341373, 45.86635388, 67.26489012,\n",
       "       56.25006236, 55.11733331, 39.97841279, 39.15422031, 65.20070633,\n",
       "       75.00088382, 44.45182865, 86.90072565, 54.53081125, 53.48637432])"
      ]
     },
     "execution_count": 58,
     "metadata": {},
     "output_type": "execute_result"
    }
   ],
   "source": [
    "a = []\n",
    "for meth in res.keys():\n",
    "    for i in res[meth].keys():\n",
    "        for j in res[meth][i].keys():\n",
    "            a.append(res[meth][i][j][\"estimation\"][\"a\"])\n",
    "            # print(res[meth][i][j][\"estimation\"][\"a\"])\n",
    "np.array(a)"
   ]
  },
  {
   "cell_type": "code",
   "execution_count": null,
   "metadata": {},
   "outputs": [],
   "source": []
  },
  {
   "cell_type": "code",
   "execution_count": 7,
   "metadata": {},
   "outputs": [
    {
     "name": "stdout",
     "output_type": "stream",
     "text": [
      "3.152008015339242\n",
      "[0.0339346285598002, 0.03250316142777831, 0.030881778974848912, 0.029091863766846228, 0.0966703679016676, 0.038378934089692236, 0.03005189080298323, 0.03257490446603809, 0.03166663267907629, 0.29704267519271543, 0.14669660668778592, 0.05469536316375588, 0.02754197819502947, 0.024190651388285526, 0.02400937473219631, 0.02378444539739426, 0.020820983903113, 0.025463758670992903]\n",
      "12.632705097634087\n",
      "[0.010678834592974003, 0.20161476533539802, 0.009992536514280443, 0.30349735436380676, 0.010277562538674784, 0.010652158044196537, 0.010759301211975662, 0.009618904926690267, 0.012085107836877577, 0.00904867239091805, 0.009894110663126319, 0.009386836325771083, 0.00935977748378772, 0.013145115416599103, 0.010164258527899442, 0.009311417291423627, 0.010504316188412079, 0.009952217138697608, 0.00980226261787603, 0.009439920188917539, 0.01019408126350717, 0.009614090996339902, 0.009668439292037683, 0.009726625658241813, 0.014008152605957332, 0.00979835485809175, 0.008788470138408522, 0.010200350563328998, 0.00941677065131922, 0.010952479344683913, 0.08661642263237823, 0.008901445926860537, 0.00936347356698341, 0.010392226521997732, 0.008800391442236015, 0.008705097313697629, 0.009974742841006143, 0.009511894389282467, 0.008297343341811049, 0.007137062608755487, 0.008362337992357718, 0.008202972855968186, 0.007602319735905233, 0.007002941086269589, 0.009576082774270795]\n"
     ]
    }
   ],
   "source": [
    "meth = \"supervised\"\n",
    "k0 = 9\n",
    "nofold = 3\n",
    "print(res[meth][str(k0)][str(nofold)][\"estimation\"][\"a\"])\n",
    "print(res[meth][str(k0)][str(nofold)][\"estimation\"][\"rho\"])\n",
    "meth = \"unsupervised\"\n",
    "k0 = 9\n",
    "nofold = 3\n",
    "print(res[meth][str(k0)][str(nofold)][\"estimation\"][\"a\"])\n",
    "print(res[meth][str(k0)][str(nofold)][\"estimation\"][\"rho\"])\n"
   ]
  },
  {
   "cell_type": "code",
   "execution_count": 10,
   "metadata": {},
   "outputs": [
    {
     "data": {
      "text/plain": [
       "2"
      ]
     },
     "execution_count": 10,
     "metadata": {},
     "output_type": "execute_result"
    }
   ],
   "source": [
    "a1 = np.array([[1,2],[3,4]])\n",
    "a2 = np.array([[5,6],[7,8]])\n",
    "np.concatenate((a1,a2), axis=0)\n",
    "a1 = np.array([1,2,3])\n",
    "a1[1]"
   ]
  },
  {
   "cell_type": "code",
   "execution_count": 9,
   "metadata": {},
   "outputs": [],
   "source": [
    "# # save accuracy\n",
    "# ind = []\n",
    "# for i in indexes: ind += i\n",
    "# trueY = Y[ind]\n",
    "\n",
    "# predict = {\"supervised\": {}, \"unsupervised\": {}}\n",
    "# accuracy = {\"supervised\": [], \"unsupervised\": []}\n",
    "# accu_per_sample = {\"supervised\": np.zeros(57), \"unsupervised\": np.zeros(57)}\n",
    "# header_label = \"index, k0, true, prediction, method\\n\"\n",
    "\n",
    "# for meth in [\"supervised\", \"unsupervised\"]:\n",
    "#     for i in range(1,16):\n",
    "#         predict[meth][i] = []\n",
    "#         for j in range(5):\n",
    "#             predict[meth][i] += res[meth][str(i)][str(j)][\"prediction\"][\"Y\"]\n",
    "#             for jj in range(len(indexes[j])):\n",
    "#                 header_label += \",\".join([str(indexes[j][jj]), str(i), str(Y[indexes[j][jj]]), str(res[meth][str(i)][str(j)][\"prediction\"][\"Y\"][jj]), meth]) + '\\n'\n",
    "#         predict[meth][i] = np.array(predict[meth][i])\n",
    "#         accuracy[meth].append((predict[meth][i]==trueY).sum()/57)\n",
    "#         accu_per_sample[meth] += (predict[meth][i]==trueY)/15\n",
    "\n",
    "# # save the accuracy for two methods in accuracy.csv\n",
    "# header = \"number_of_topic,supervised,unsupervised\\n\"\n",
    "# for i in range(1,16):\n",
    "#     # print(i)\n",
    "#     header += \",\".join([str(i), str(accuracy[\"supervised\"][i-1]), str(accuracy[\"unsupervised\"][i-1])])+\"\\n\"\n",
    "# with open(\"./accuracy/accuracy.csv\", \"w\") as f:\n",
    "#     f.write(header)\n",
    "\n",
    "# # save the accuracy for each records in accuracy_per_patient.csv\n",
    "# header = \"no,supervised,unsupervised\\n\"\n",
    "# for i in range(1,58):\n",
    "#     # print(i)\n",
    "#     header += \",\".join([str(ind[i-1]+1), str(accu_per_sample[\"supervised\"][i-1]), str(accu_per_sample[\"unsupervised\"][i-1])])+\"\\n\"\n",
    "# with open(\"./accuracy/accuracy_per_patient.csv\", \"w\") as f:\n",
    "#     f.write(header)\n",
    "\n",
    "# with open(\"./accuracy/prediction.csv\", \"w\") as f:\n",
    "#     f.write(header_label)\n"
   ]
  },
  {
   "cell_type": "code",
   "execution_count": 17,
   "metadata": {},
   "outputs": [
    {
     "data": {
      "text/plain": [
       "dict_keys(['G', 'Y'])"
      ]
     },
     "execution_count": 17,
     "metadata": {},
     "output_type": "execute_result"
    }
   ],
   "source": []
  },
  {
   "cell_type": "code",
   "execution_count": null,
   "metadata": {},
   "outputs": [],
   "source": []
  },
  {
   "cell_type": "code",
   "execution_count": 52,
   "metadata": {},
   "outputs": [],
   "source": [
    "# import json\n",
    "# import numpy as np\n",
    "\n",
    "# indexes = [[1, 15, 13, 12,  8, 25, 28, 50, 41, 35, 34, 54],\n",
    "# [16,  3, 18, 19, 21, 30, 24 ,51, 47, 46, 33, 55],\n",
    "# [17,  0, 11 , 6 ,29 ,23 ,44 ,39 ,43 ,40, 53],\n",
    "# [10,  4,  9 , 2 ,26 ,27 ,38 ,36, 32, 42 ,52],\n",
    "# [5 ,22 ,20, 14 , 7 ,31 ,45, 37, 48, 49, 56]]\n",
    "\n",
    "# train_indexes = [[] for i in range(5)]\n",
    "\n",
    "# for i in range(57):\n",
    "#     for j in range(5):\n",
    "#         if i not in set(indexes[j]):\n",
    "#             train_indexes[j].append(i)\n",
    "\n",
    "# nlabel = 4\n",
    "\n",
    "# # read result\n",
    "# with open(\"./res.txt\", \"r\") as f:\n",
    "#     x = f.read()\n",
    "# res = json.loads(x)\n",
    "\n",
    "# # read real data\n",
    "# data_file  = \"../data/cleaned_data.csv\"\n",
    "# with open(data_file,\"r\") as f:\n",
    "#     x = f.readlines()\n",
    "\n",
    "# X = []\n",
    "# Y = []\n",
    "# for i in range(1, len(x)):\n",
    "#     tem = x[i].strip().split(\",\")\n",
    "#     X.append([float(j) for j in tem[1:-1]])\n",
    "#     Y.append(int(tem[-1]))\n",
    "# X = np.array(X)\n",
    "# Y = np.array(Y)\n",
    "\n",
    "# # save the model and memberships\n",
    "# # The result can be found in method_k0_noFold_parameter.csv\n",
    "\n",
    "# # supervised\n",
    "# meth = \"supervised\"\n",
    "# for k0 in range(1,16):\n",
    "#     k1 = k0\n",
    "#     T = []\n",
    "#     cur = res[meth][str(k0)]\n",
    "#     for i in range(nlabel):\n",
    "#         tem = np.block([\n",
    "#             [np.zeros((k0*i,k0+k1))],\n",
    "#             [np.eye(k0), np.zeros((k0, k1))],\n",
    "#             [np.zeros((k0*(nlabel-i-1),k0+k1))],\n",
    "#             [np.zeros((k1,k0)), np.eye(k1)]\n",
    "#         ])\n",
    "#         T.append(tem)    \n",
    "\n",
    "#     for no_fold in range(5):\n",
    "#         no = np.array([[i] for i in indexes[no_fold] + train_indexes[no_fold]])\n",
    "#         filename = \"./model/\"+\"_\".join([meth,str(k0),str(no_fold)])+\"_{}.txt\"\n",
    "\n",
    "#         G1 = np.array(cur[str(no_fold)][\"prediction\"][\"G\"]) #G for testing\n",
    "#         G2 = np.array(cur[str(no_fold)][\"estimation\"][\"G\"]) #G for training\n",
    "#         G = np.concatenate((G1,G2), axis=0)\n",
    "#         Gsave = np.concatenate((no,G), axis=1)\n",
    "#         np.savetxt(filename.format(\"G\"), Gsave, delimiter=',', header='',fmt=\"%.5f\")\n",
    "#         Y1 = cur[str(no_fold)][\"prediction\"][\"Y\"]\n",
    "#         Y2 = Y[train_indexes[no_fold]]\n",
    "#         Ys = np.concatenate((Y1,Y2), axis=0)\n",
    "#         U = np.array([np.dot(T[Ys[i]], G[i]) for i in range(57)])\n",
    "\n",
    "#         U = np.concatenate((no,U), axis=1)\n",
    "#         np.savetxt(filename.format(\"U\"), U, delimiter=',', header='',fmt=\"%.5f\")\n",
    "\n",
    "#         estimate = cur[str(no_fold)][\"estimation\"]\n",
    "#         Mu, Lambda = [estimate[\"Mu1\"], estimate[\"Mu2\"], estimate[\"Mu3\"]], [estimate[\"Lambda1\"], estimate[\"Lambda2\"], estimate[\"Lambda3\"]]\n",
    "#         Mu, Lambda = [np.array(mus) for mus in Mu], [np.array(lambdas) for lambdas in Lambda]\n",
    "#         Mu = np.concatenate((Mu[0], Mu[1], Mu[2]), axis=1)\n",
    "#         Lambda = np.concatenate((Lambda[0], Lambda[1], Lambda[2]), axis=1)\n",
    "#         S = 1/Lambda\n",
    "#         np.savetxt(filename.format(\"Mu\"), Mu, delimiter=',', header='',fmt=\"%.5f\")\n",
    "#         np.savetxt(filename.format(\"S\"), S, delimiter=',', header='',fmt=\"%.5f\")\n",
    "            \n",
    "\n",
    "\n",
    "# meth = \"unsupervised\"\n",
    "# for k0 in range(1,16):\n",
    "#     k1 = k0\n",
    "#     cur = res[meth][str(k0)]\n",
    " \n",
    "#     for no_fold in range(5):\n",
    "#         no = np.array([[i] for i in indexes[no_fold] + train_indexes[no_fold]])\n",
    "#         filename = \"./model/\"+\"_\".join([meth,str(k0),str(no_fold)])+\"_{}.txt\"\n",
    "\n",
    "#         U1 = np.array(cur[str(no_fold)][\"prediction\"][\"U\"]) #U for testing\n",
    "#         U2 = np.array(cur[str(no_fold)][\"estimation\"][\"U\"]) #U for training\n",
    "#         U = np.concatenate((U1,U2), axis=0)\n",
    "#         U = np.concatenate((no,U), axis=1)\n",
    "#         np.savetxt(filename.format(\"U\"), U, delimiter=',', header='',fmt=\"%.5f\")\n",
    "\n",
    "#         estimate = cur[str(no_fold)][\"estimation\"]\n",
    "#         Mu, Lambda = [estimate[\"Mu1\"], estimate[\"Mu2\"], estimate[\"Mu3\"]], [estimate[\"Lambda1\"], estimate[\"Lambda2\"], estimate[\"Lambda3\"]]\n",
    "#         Mu, Lambda = [np.array(mus) for mus in Mu], [np.array(lambdas) for lambdas in Lambda]\n",
    "#         Mu = np.concatenate((Mu[0], Mu[1], Mu[2]), axis=1)\n",
    "#         Lambda = np.concatenate((Lambda[0], Lambda[1], Lambda[2]), axis=1)\n",
    "#         S = 1/Lambda\n",
    "#         np.savetxt(filename.format(\"Mu\"), Mu, delimiter=',', header='',fmt=\"%.5f\")\n",
    "#         np.savetxt(filename.format(\"S\"), S, delimiter=',', header='',fmt=\"%.5f\")\n",
    "            \n",
    "\n",
    "\n"
   ]
  }
 ],
 "metadata": {
  "interpreter": {
   "hash": "aee8b7b246df8f9039afb4144a1f6fd8d2ca17a180786b69acc140d282b71a49"
  },
  "kernelspec": {
   "display_name": "Python 3.10.2 64-bit",
   "language": "python",
   "name": "python3"
  },
  "language_info": {
   "codemirror_mode": {
    "name": "ipython",
    "version": 3
   },
   "file_extension": ".py",
   "mimetype": "text/x-python",
   "name": "python",
   "nbconvert_exporter": "python",
   "pygments_lexer": "ipython3",
   "version": "3.10.2"
  },
  "orig_nbformat": 4
 },
 "nbformat": 4,
 "nbformat_minor": 2
}
