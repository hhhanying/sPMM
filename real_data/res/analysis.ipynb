{
 "cells": [
  {
   "cell_type": "code",
   "execution_count": 50,
   "metadata": {},
   "outputs": [],
   "source": [
    "import json\n",
    "import numpy as np\n",
    "import pandas as pd\n",
    "\n",
    "data_file  = \"../data/cleaned_data.csv\""
   ]
  },
  {
   "cell_type": "code",
   "execution_count": 51,
   "metadata": {},
   "outputs": [
    {
     "name": "stdout",
     "output_type": "stream",
     "text": [
      "[0 0 0 0 0 1 1 2 2 2 2 3]\n",
      "[0 0 0 0 0 1 1 2 2 2 2 3]\n",
      "[0 0 0 0 1 1 2 2 2 2 3]\n",
      "[0 0 0 0 1 1 2 2 2 2 3]\n",
      "[0 0 0 0 0 1 2 2 2 2 3]\n"
     ]
    }
   ],
   "source": [
    "# read true data\n",
    "f = open(data_file,\"r\")\n",
    "x = f.readlines()\n",
    "f.close()\n",
    "\n",
    "X = []\n",
    "Y = []\n",
    "for i in range(1, len(x)):\n",
    "    tem = x[i].strip().split(\",\")\n",
    "    X.append([float(j) for j in tem[1:-1]])\n",
    "    Y.append(int(tem[-1]))\n",
    "X = np.array(X)\n",
    "Y = np.array(Y)\n",
    "\n",
    "nlabel = 4\n",
    "d1, d2, d3 = 180, 18, 42\n",
    "\n",
    "# training-test split\n",
    "indexes = [[1, 15, 13, 12,  8, 25, 28, 50, 41, 35, 34, 54],\n",
    "[16,  3, 18, 19, 21, 30, 24 ,51, 47, 46, 33, 55],\n",
    "[17,  0, 11 , 6 ,29 ,23 ,44 ,39 ,43 ,40, 53],\n",
    "[10,  4,  9 , 2 ,26 ,27 ,38 ,36, 32, 42 ,52],\n",
    "[5 ,22 ,20, 14 , 7 ,31 ,45, 37, 48, 49, 56]]\n",
    "\n",
    "# supervised = {}\n",
    "# unsupervised = {}\n",
    "# for i in indexes:\n",
    "#     print(Y[i])"
   ]
  },
  {
   "cell_type": "code",
   "execution_count": 55,
   "metadata": {},
   "outputs": [],
   "source": [
    "supervised = {}\n",
    "for k0 in range(1, 16):\n",
    "    k1 = k0\n",
    "    T = []\n",
    "    for i in range(nlabel):\n",
    "        tem = np.block([\n",
    "            [np.zeros((k0*i,k0+k1))],\n",
    "            [np.eye(k0), np.zeros((k0, k1))],\n",
    "            [np.zeros((k0*(nlabel-i-1),k0+k1))],\n",
    "            [np.zeros((k1,k0)), np.eye(k1)]\n",
    "        ])\n",
    "        T.append(tem)\n",
    "\n",
    "    # read the result\n",
    "    cur= {}\n",
    "    start_file = (k0 - 1) * 5 + 1\n",
    "    for i in range(0,5):\n",
    "        with open(\"./supervised/MOFA{}.txt\".format(str(start_file+i))) as f:\n",
    "            x = f.read()\n",
    "        cur[i] = json.loads(x)\n",
    "        # cur[i][\"accuracy\"] = sum(cur[i][\"prediction\"][\"Y\"] == Y[indexes[i]])/len(indexes[i])\n",
    "    supervised[k0] = cur\n",
    "\n",
    "\n",
    "unsupervised = {}\n",
    "for k0 in range(1, 16):\n",
    "    k1 = k0\n",
    "\n",
    "    # read the result\n",
    "    cur= {}\n",
    "    start_file = (k0 - 1) * 5 + 1\n",
    "    for i in range(0,5):\n",
    "        with open(\"./unsupervised/MOFA_un{}.txt\".format(str(start_file+i))) as f:\n",
    "            x = f.read()\n",
    "        cur[i] = json.loads(x)\n",
    "        # cur[i][\"accuracy\"] = sum(cur[i][\"prediction\"][\"Y\"] == Y[indexes[i]])/len(indexes[i])\n",
    "    unsupervised[k0] = cur\n",
    "\n",
    "res = {\"supervised\": supervised, \"unsupervised\": unsupervised}\n",
    "with open(\"res.txt\", \"w\") as f:\n",
    "    f.write(json.dumps(res))\n"
   ]
  },
  {
   "cell_type": "code",
   "execution_count": null,
   "metadata": {},
   "outputs": [],
   "source": [
    "with open(\"res.txt\", \"r\") as f:\n",
    "    x = f.read()\n",
    "res = json.loads(x)"
   ]
  },
  {
   "cell_type": "code",
   "execution_count": 71,
   "metadata": {},
   "outputs": [],
   "source": [
    "for k0 in range(1, 16):\n",
    "    k1 = k0\n",
    "    T = []\n",
    "    for i in range(nlabel):\n",
    "        tem = np.block([\n",
    "            [np.zeros((k0*i,k0+k1))],\n",
    "            [np.eye(k0), np.zeros((k0, k1))],\n",
    "            [np.zeros((k0*(nlabel-i-1),k0+k1))],\n",
    "            [np.zeros((k1,k0)), np.eye(k1)]\n",
    "        ])\n",
    "        T.append(tem)\n",
    "\n",
    "    # similate x from estimate\n",
    "    sim_N = 30\n",
    "    \n",
    "    sim_x = np.array([list(range(241))]) # len(each row) = 241\n",
    "    cur = res[\"supervised\"][k0]\n",
    "\n",
    "    for i in range(0,5):\n",
    "        estimate = cur[i][\"estimation\"]\n",
    "        Mu, Lambda = [estimate[\"Mu1\"], estimate[\"Mu2\"], estimate[\"Mu3\"]], [estimate[\"Lambda1\"], estimate[\"Lambda2\"], estimate[\"Lambda3\"]]\n",
    "        Mu, Lambda = [np.array(mus) for mus in Mu], [np.array(lambdas) for lambdas in Lambda]\n",
    "        Mu = np.concatenate((Mu[0], Mu[1], Mu[2]), axis=1)\n",
    "        Lambda = np.concatenate((Lambda[0], Lambda[1], Lambda[2]), axis=1)\n",
    "        Tau = Mu * Lambda\n",
    "\n",
    "        G = np.array(cur[i][\"prediction\"][\"G\"])\n",
    "        Ybar = cur[i][\"prediction\"][\"Y\"]\n",
    "        # Ybar = Y[indexes[i]]\n",
    "        U = np.array([np.dot(T[Ybar[i]], G[i]) for i in range(len(Ybar))])\n",
    "\n",
    "        for j in range(len(indexes[i])):\n",
    "            u = U[j]\n",
    "            tem = np.zeros((sim_N, 241)) + indexes[i][j]\n",
    "            for k in range(0,240):\n",
    "                lambdax = np.dot(u, Lambda[:, k])\n",
    "                taux = np.dot(u, Tau[:, k])\n",
    "                sx = 1/lambdax\n",
    "                mux = sx*taux\n",
    "                tem[:,k] = np.random.normal(mux, np.sqrt(sx),sim_N)\n",
    "            sim_x = np.concatenate((sim_x, tem), axis = 0)\n",
    "    np.savetxt(\"./simulated/sim_x_{}.csv\".format(str(k0)), sim_x[1:,:], delimiter=\",\",fmt=\"%.2f\")\n",
    "\n",
    "    sim_x = np.array([list(range(241))]) # len(each row) = 241\n",
    "    cur = res[\"unsupervised\"][k0]\n",
    "\n",
    "    for i in range(0,5):\n",
    "        estimate = cur[i][\"estimation\"]\n",
    "        Mu, Lambda = [estimate[\"Mu1\"], estimate[\"Mu2\"], estimate[\"Mu3\"]], [estimate[\"Lambda1\"], estimate[\"Lambda2\"], estimate[\"Lambda3\"]]\n",
    "        Mu, Lambda = [np.array(mus) for mus in Mu], [np.array(lambdas) for lambdas in Lambda]\n",
    "        Mu = np.concatenate((Mu[0], Mu[1], Mu[2]), axis=1)\n",
    "        Lambda = np.concatenate((Lambda[0], Lambda[1], Lambda[2]), axis=1)\n",
    "        Tau = Mu * Lambda\n",
    "\n",
    "        U = np.array(cur[i][\"prediction\"][\"U\"])\n",
    "        Ybar = cur[i][\"prediction\"][\"Y\"]\n",
    "        # Ybar = Y[indexes[i]]\n",
    "        # U = np.array([np.dot(T[Ybar[i]], G[i]) for i in range(len(Ybar))])\n",
    "\n",
    "        for j in range(len(indexes[i])):\n",
    "            u = U[j]\n",
    "            tem = np.zeros((sim_N, 241)) + indexes[i][j]\n",
    "            for k in range(0,240):\n",
    "                lambdax = np.dot(u, Lambda[:, k])\n",
    "                taux = np.dot(u, Tau[:, k])\n",
    "                sx = 1/lambdax\n",
    "                mux = sx*taux\n",
    "                tem[:,k] = np.random.normal(mux, np.sqrt(sx),sim_N)\n",
    "            sim_x = np.concatenate((sim_x, tem), axis = 0)\n",
    "    np.savetxt(\"./simulated/sim_x_un_{}.csv\".format(str(k0)), sim_x[1:,:], delimiter=\",\",fmt=\"%.2f\")\n",
    "    "
   ]
  },
  {
   "cell_type": "code",
   "execution_count": 68,
   "metadata": {},
   "outputs": [],
   "source": [
    "accuracy = {\"supervised\": [], \"unsupervised\": []}\n",
    "for meth in [\"supervised\", \"unsupervised\"]:\n",
    "    for i in range(1,16):\n",
    "        tem = 0\n",
    "        for j in range(len(indexes)):\n",
    "           \n",
    "            tem += sum(res[meth][i][j][\"prediction\"][\"Y\"] == Y[indexes[j]])\n",
    "        accuracy[meth].append(tem/57)\n"
   ]
  },
  {
   "cell_type": "code",
   "execution_count": 70,
   "metadata": {},
   "outputs": [
    {
     "name": "stdout",
     "output_type": "stream",
     "text": [
      "[0.6140350877192983, 0.49122807017543857, 0.45614035087719296, 0.49122807017543857, 0.5087719298245614, 0.49122807017543857, 0.47368421052631576, 0.49122807017543857, 0.543859649122807, 0.5789473684210527, 0.5614035087719298, 0.5087719298245614, 0.6491228070175439, 0.5964912280701754, 0.5614035087719298]\n",
      "[0.22807017543859648, 0.17543859649122806, 0.2982456140350877, 0.2631578947368421, 0.14035087719298245, 0.17543859649122806, 0.17543859649122806, 0.24561403508771928, 0.19298245614035087, 0.22807017543859648, 0.14035087719298245, 0.2631578947368421, 0.2807017543859649, 0.2631578947368421, 0.3333333333333333]\n"
     ]
    }
   ],
   "source": [
    "print(accuracy[\"supervised\"])\n",
    "print(accuracy[\"unsupervised\"])"
   ]
  },
  {
   "cell_type": "code",
   "execution_count": 76,
   "metadata": {},
   "outputs": [],
   "source": [
    "k0 = 3\n",
    "nt = 5*k0\n",
    "estimate = res[\"supervised\"][k0][1][\"estimation\"]\n",
    "Mu, Lambda = [estimate[\"Mu1\"], estimate[\"Mu2\"], estimate[\"Mu3\"]], [estimate[\"Lambda1\"], estimate[\"Lambda2\"], estimate[\"Lambda3\"]]\n",
    "Mu, Lambda = [np.array(mus) for mus in Mu], [np.array(lambdas) for lambdas in Lambda]\n",
    "Mu = np.concatenate((Mu[0], Mu[1], Mu[2]), axis=1)\n",
    "Lambda = np.concatenate((Lambda[0], Lambda[1], Lambda[2]), axis=1)\n",
    "Tau = Mu * Lambda\n",
    "S = 1/Lambda\n",
    "gene = []\n",
    "def dist(t1, t2, i):\n",
    "    mu1, mu2, s1, s2 = Mu[t1,1], Mu[t1,i], S[t1,i], S[t2,i]\n",
    "    s = (s1+s2)/2\n",
    "    return (mu1-mu2)**2/s/8+1/2*np.log(s/np.sqrt(s1*s2))\n",
    "\n",
    "for i in range(240):\n",
    "    tem = []\n",
    "    for t1 in range(nt-1):\n",
    "        for t2 in range (t1+1,nt):\n",
    "            tem.append(dist(t1,t2,i))\n",
    "    gene.append(max(tem))\n",
    "\n"
   ]
  },
  {
   "cell_type": "code",
   "execution_count": 78,
   "metadata": {},
   "outputs": [],
   "source": [
    "gene1 = gene"
   ]
  },
  {
   "cell_type": "code",
   "execution_count": 79,
   "metadata": {},
   "outputs": [],
   "source": [
    "k0 = 9\n",
    "nt = 5*k0\n",
    "estimate = res[\"supervised\"][k0][1][\"estimation\"]\n",
    "Mu, Lambda = [estimate[\"Mu1\"], estimate[\"Mu2\"], estimate[\"Mu3\"]], [estimate[\"Lambda1\"], estimate[\"Lambda2\"], estimate[\"Lambda3\"]]\n",
    "Mu, Lambda = [np.array(mus) for mus in Mu], [np.array(lambdas) for lambdas in Lambda]\n",
    "Mu = np.concatenate((Mu[0], Mu[1], Mu[2]), axis=1)\n",
    "Lambda = np.concatenate((Lambda[0], Lambda[1], Lambda[2]), axis=1)\n",
    "Tau = Mu * Lambda\n",
    "S = 1/Lambda\n",
    "gene = []\n",
    "def dist(t1, t2, i):\n",
    "    mu1, mu2, s1, s2 = Mu[t1,1], Mu[t1,i], S[t1,i], S[t2,i]\n",
    "    s = (s1+s2)/2\n",
    "    return (mu1-mu2)**2/s/8+1/2*np.log(s/np.sqrt(s1*s2))\n",
    "\n",
    "for i in range(240):\n",
    "    tem = []\n",
    "    for t1 in range(nt-1):\n",
    "        for t2 in range (t1+1,nt):\n",
    "            tem.append(dist(t1,t2,i))\n",
    "    gene.append(max(tem))\n",
    "\n"
   ]
  },
  {
   "cell_type": "code",
   "execution_count": 87,
   "metadata": {},
   "outputs": [
    {
     "data": {
      "text/plain": [
       "array([217, 202, 205, 231, 200, 198, 199, 224, 209, 207, 211, 204, 233,\n",
       "       235, 218, 234, 230, 223, 201, 206])"
      ]
     },
     "execution_count": 87,
     "metadata": {},
     "output_type": "execute_result"
    }
   ],
   "source": [
    "gene = np.array(gene)\n",
    "n = 20\n",
    "idx = np.argpartition(gene, -n)[-n:]\n",
    "indices = idx[np.argsort((-gene)[idx])]\n",
    "indices"
   ]
  },
  {
   "cell_type": "code",
   "execution_count": 90,
   "metadata": {},
   "outputs": [
    {
     "name": "stdout",
     "output_type": "stream",
     "text": [
      "[7.53055417 6.84389654 6.28953733 5.78788215 5.46889616 4.92995231\n",
      " 4.51699618 4.42768504 4.11941815 3.99834579 3.60219404 3.34480437\n",
      " 3.26045544 3.12172397 2.9064809  2.66039241 2.46078044 2.40228011\n",
      " 2.26054697 2.20225871]\n",
      "[0.74039333 0.03482271 0.46393796 0.40341546 0.26484168 0.53092709\n",
      " 0.59888151 0.80673752 0.80248388 0.98687181]\n"
     ]
    }
   ],
   "source": [
    "print(gene[indices.tolist()])\n",
    "print(gene[list(range(10))])\n"
   ]
  }
 ],
 "metadata": {
  "interpreter": {
   "hash": "aee8b7b246df8f9039afb4144a1f6fd8d2ca17a180786b69acc140d282b71a49"
  },
  "kernelspec": {
   "display_name": "Python 3.10.2 64-bit",
   "language": "python",
   "name": "python3"
  },
  "language_info": {
   "codemirror_mode": {
    "name": "ipython",
    "version": 3
   },
   "file_extension": ".py",
   "mimetype": "text/x-python",
   "name": "python",
   "nbconvert_exporter": "python",
   "pygments_lexer": "ipython3",
   "version": "3.10.2"
  },
  "orig_nbformat": 4
 },
 "nbformat": 4,
 "nbformat_minor": 2
}
