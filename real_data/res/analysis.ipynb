{
 "cells": [
  {
   "cell_type": "code",
   "execution_count": 50,
   "metadata": {},
   "outputs": [],
   "source": [
    "import json\n",
    "import numpy as np\n",
    "import pandas as pd\n",
    "d1, d2, d3 = 180, 18, 42\n"
   ]
  },
  {
   "cell_type": "code",
   "execution_count": 76,
   "metadata": {},
   "outputs": [],
   "source": [
    "k0 = 3\n",
    "nt = 5*k0\n",
    "estimate = res[\"supervised\"][k0][1][\"estimation\"]\n",
    "Mu, Lambda = [estimate[\"Mu1\"], estimate[\"Mu2\"], estimate[\"Mu3\"]], [estimate[\"Lambda1\"], estimate[\"Lambda2\"], estimate[\"Lambda3\"]]\n",
    "Mu, Lambda = [np.array(mus) for mus in Mu], [np.array(lambdas) for lambdas in Lambda]\n",
    "Mu = np.concatenate((Mu[0], Mu[1], Mu[2]), axis=1)\n",
    "Lambda = np.concatenate((Lambda[0], Lambda[1], Lambda[2]), axis=1)\n",
    "Tau = Mu * Lambda\n",
    "S = 1/Lambda\n",
    "gene = []\n",
    "def dist(t1, t2, i):\n",
    "    mu1, mu2, s1, s2 = Mu[t1,1], Mu[t1,i], S[t1,i], S[t2,i]\n",
    "    s = (s1+s2)/2\n",
    "    return (mu1-mu2)**2/s/8+1/2*np.log(s/np.sqrt(s1*s2))\n",
    "\n",
    "for i in range(240):\n",
    "    tem = []\n",
    "    for t1 in range(nt-1):\n",
    "        for t2 in range (t1+1,nt):\n",
    "            tem.append(dist(t1,t2,i))\n",
    "    gene.append(max(tem))\n",
    "\n"
   ]
  },
  {
   "cell_type": "code",
   "execution_count": 78,
   "metadata": {},
   "outputs": [],
   "source": [
    "gene1 = gene"
   ]
  },
  {
   "cell_type": "code",
   "execution_count": 79,
   "metadata": {},
   "outputs": [],
   "source": [
    "k0 = 9\n",
    "nt = 5*k0\n",
    "estimate = res[\"supervised\"][k0][1][\"estimation\"]\n",
    "Mu, Lambda = [estimate[\"Mu1\"], estimate[\"Mu2\"], estimate[\"Mu3\"]], [estimate[\"Lambda1\"], estimate[\"Lambda2\"], estimate[\"Lambda3\"]]\n",
    "Mu, Lambda = [np.array(mus) for mus in Mu], [np.array(lambdas) for lambdas in Lambda]\n",
    "Mu = np.concatenate((Mu[0], Mu[1], Mu[2]), axis=1)\n",
    "Lambda = np.concatenate((Lambda[0], Lambda[1], Lambda[2]), axis=1)\n",
    "Tau = Mu * Lambda\n",
    "S = 1/Lambda\n",
    "gene = []\n",
    "def dist(t1, t2, i):\n",
    "    mu1, mu2, s1, s2 = Mu[t1,1], Mu[t1,i], S[t1,i], S[t2,i]\n",
    "    s = (s1+s2)/2\n",
    "    return (mu1-mu2)**2/s/8+1/2*np.log(s/np.sqrt(s1*s2))\n",
    "\n",
    "for i in range(240):\n",
    "    tem = []\n",
    "    for t1 in range(nt-1):\n",
    "        for t2 in range (t1+1,nt):\n",
    "            tem.append(dist(t1,t2,i))\n",
    "    gene.append(max(tem))\n",
    "\n"
   ]
  },
  {
   "cell_type": "code",
   "execution_count": 87,
   "metadata": {},
   "outputs": [
    {
     "data": {
      "text/plain": [
       "array([217, 202, 205, 231, 200, 198, 199, 224, 209, 207, 211, 204, 233,\n",
       "       235, 218, 234, 230, 223, 201, 206])"
      ]
     },
     "execution_count": 87,
     "metadata": {},
     "output_type": "execute_result"
    }
   ],
   "source": [
    "gene = np.array(gene)\n",
    "n = 20\n",
    "idx = np.argpartition(gene, -n)[-n:]\n",
    "indices = idx[np.argsort((-gene)[idx])]\n",
    "indices"
   ]
  },
  {
   "cell_type": "code",
   "execution_count": 90,
   "metadata": {},
   "outputs": [
    {
     "name": "stdout",
     "output_type": "stream",
     "text": [
      "[7.53055417 6.84389654 6.28953733 5.78788215 5.46889616 4.92995231\n",
      " 4.51699618 4.42768504 4.11941815 3.99834579 3.60219404 3.34480437\n",
      " 3.26045544 3.12172397 2.9064809  2.66039241 2.46078044 2.40228011\n",
      " 2.26054697 2.20225871]\n",
      "[0.74039333 0.03482271 0.46393796 0.40341546 0.26484168 0.53092709\n",
      " 0.59888151 0.80673752 0.80248388 0.98687181]\n"
     ]
    }
   ],
   "source": [
    "print(gene[indices.tolist()])\n",
    "print(gene[list(range(10))])\n"
   ]
  }
 ],
 "metadata": {
  "interpreter": {
   "hash": "aee8b7b246df8f9039afb4144a1f6fd8d2ca17a180786b69acc140d282b71a49"
  },
  "kernelspec": {
   "display_name": "Python 3.10.2 64-bit",
   "language": "python",
   "name": "python3"
  },
  "language_info": {
   "codemirror_mode": {
    "name": "ipython",
    "version": 3
   },
   "file_extension": ".py",
   "mimetype": "text/x-python",
   "name": "python",
   "nbconvert_exporter": "python",
   "pygments_lexer": "ipython3",
   "version": "3.10.2"
  },
  "orig_nbformat": 4
 },
 "nbformat": 4,
 "nbformat_minor": 2
}
