{
 "cells": [
  {
   "cell_type": "code",
   "execution_count": 2,
   "metadata": {},
   "outputs": [],
   "source": [
    "# save the result under fixed parameters\n",
    "res = []\n",
    "save_to = \"C:/Users/hanying/Desktop/sPMM/normal/res.csv\" # the file to store all results and their settings\n",
    "\n",
    "# for i in range(1,4):\n",
    "foldername = \"C:/Users/hanying/Desktop/sPMM/normal/res/\".format(str(i))\n",
    "confi_file = foldername + \"configurations.csv\"\n",
    "result_file = foldername + \"output{}.txt\"\n",
    "out_file = foldername + \"out{}.out\"\n",
    "\n",
    "f = open(confi_file,\"r\")\n",
    "configuration = f.readlines()\n",
    "f.close()\n",
    "\n",
    "for index in range(1, len(configuration)):\n",
    "    tem_confi = configuration[index][:-1]\n",
    "    #if not succeed, accuracy = -1\n",
    "    try:\n",
    "        f = open(result_file.format(str(index)),\"r\")\n",
    "        tem_res = f.readlines()\n",
    "        f.close()\n",
    "        accuracy_su = tem_res[0][:-1]\n",
    "        accuracy_un = tem_res[1][:-1]\n",
    "\n",
    "        f = open(out_file.format(str(index-1)),\"r\")\n",
    "        tem_a = f.readlines()[1][16:-1]\n",
    "        f.close()\n",
    "    except:\n",
    "        accuracy_su = accuracy_un = tem_a = str(-1)\n",
    "        \n",
    "#         try:\n",
    "#             f = open(result_file.format(str(index)),\"r\")\n",
    "#             tem_res = f.readlines()\n",
    "#             f.close()\n",
    "#             accuracy_su = tem_res[0][:-1]\n",
    "#             accuracy_un = tem_res[1][:-1]\n",
    "\n",
    "#             f = open(out_file.format(str(index-1)),\"r\")\n",
    "#             tem_a = f.readlines()[1][16:-1]\n",
    "#             f.close()\n",
    "#         except:\n",
    "#             accuracy_su = accuracy_un = tem_a = str(-1)\n",
    "\n",
    "    record = \",\".join([tem_confi,accuracy_su,accuracy_un,tem_a])\n",
    "    res.append(record)\n",
    "\n",
    "header = 'd, k0, k1, nlabel, ntrace, nchain, nskip, Ntrain, Ntest, Nfold, n1, n2, supervised, unsupervised,a\\n'\n",
    "\n",
    "f = open(save_to, \"w\")\n",
    "f.write(header)\n",
    "f.write(\"\\n\".join(res))\n",
    "f.close()"
   ]
  }
 ],
 "metadata": {
  "kernelspec": {
   "display_name": "Python 3",
   "language": "python",
   "name": "python3"
  },
  "language_info": {
   "codemirror_mode": {
    "name": "ipython",
    "version": 3
   },
   "file_extension": ".py",
   "mimetype": "text/x-python",
   "name": "python",
   "nbconvert_exporter": "python",
   "pygments_lexer": "ipython3",
   "version": "3.8.3"
  }
 },
 "nbformat": 4,
 "nbformat_minor": 4
}
