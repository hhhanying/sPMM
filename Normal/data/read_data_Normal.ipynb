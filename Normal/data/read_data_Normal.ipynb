{
 "cells": [
  {
   "cell_type": "code",
   "execution_count": 5,
   "id": "3bd49776",
   "metadata": {},
   "outputs": [],
   "source": [
    "# fix_ntopic\n",
    "res = \"mu_Mu, sigma2_Mu, alpha_Lambda, beta_Lambda, d, k0, k1, nlabel, ntrace, nchain, nskip, Ntrain, Ntest, Nfold, a, supervised, unsupervised, \" + \", \".join([j+str(i) for j in [\"supervised_\", \"unsupervised_\"] for i in range(1, 6)])+\"\\n\"\n",
    "resd100 = res # also include some results of d100\n",
    "save_to = \"./res_fix_ntopic.csv\"\n",
    "res_loca = \"../res/fix_ntopic/\"\n",
    "result_file = res_loca + \"fix_ntopic{}.txt\"\n",
    "\n",
    "for index in range(1, 130):\n",
    "    try: \n",
    "        f = open(result_file.format(str(index)),\"r\")\n",
    "        x = f.readlines()[1]\n",
    "        f.close()\n",
    "        res += x\n",
    "        if x[8:11] == '100':\n",
    "            resd100 += x\n",
    "    except:\n",
    "        1\n",
    "        \n",
    "f = open(save_to, \"w\")\n",
    "f.write(res)\n",
    "f.close()    "
   ]
  },
  {
   "cell_type": "code",
   "execution_count": 8,
   "id": "6b2d72b3",
   "metadata": {},
   "outputs": [],
   "source": [
    "# d100\n",
    "res = resd100\n",
    "save_to = \"./res_d100.csv\"\n",
    "res_loca = \"../res/d100/\"\n",
    "result_file = res_loca + \"d100{}.txt\"\n",
    "\n",
    "for index in range(1, 170):\n",
    "    try: \n",
    "        f = open(result_file.format(str(index)),\"r\")\n",
    "        x = f.readlines()[1]\n",
    "        f.close()\n",
    "        res += x\n",
    "    except:\n",
    "        1\n",
    "        \n",
    "f = open(save_to, \"w\")\n",
    "f.write(res)\n",
    "f.close()    \n",
    "\n"
   ]
  },
  {
   "cell_type": "code",
   "execution_count": 20,
   "id": "5e8ebbd9",
   "metadata": {},
   "outputs": [],
   "source": [
    "# random\n",
    "res = \"mu_Mu, sigma2_Mu, alpha_Lambda, beta_Lambda, d, k0, k1, nlabel, ntrace, nchain, nskip, Ntrain, Ntest, Nfold, a, supervised, unsupervised, \" + \", \".join([j+str(i) for j in [\"supervised_\", \"unsupervised_\"] for i in range(1, 6)])+\"\\n\"\n",
    "save_to = \"./res_random.csv\"\n",
    "res_loca = \"../res/random/\"\n",
    "result_file = res_loca + \"random{}.txt\"\n",
    "\n",
    "for index in range(1, 600):\n",
    "    try: \n",
    "        f = open(result_file.format(str(index)),\"r\")\n",
    "        x = f.readlines()[1]\n",
    "        f.close()\n",
    "        res += x\n",
    "    except:\n",
    "        1\n",
    "        \n",
    "f = open(save_to, \"w\")\n",
    "f.write(res)\n",
    "f.close()    \n",
    "\n"
   ]
  }
 ],
 "metadata": {
  "kernelspec": {
   "display_name": "Python 3 (ipykernel)",
   "language": "python",
   "name": "python3"
  },
  "language_info": {
   "codemirror_mode": {
    "name": "ipython",
    "version": 3
   },
   "file_extension": ".py",
   "mimetype": "text/x-python",
   "name": "python",
   "nbconvert_exporter": "python",
   "pygments_lexer": "ipython3",
   "version": "3.10.2"
  }
 },
 "nbformat": 4,
 "nbformat_minor": 5
}
