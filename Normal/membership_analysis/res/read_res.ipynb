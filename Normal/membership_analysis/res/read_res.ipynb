{
 "cells": [
  {
   "cell_type": "code",
   "execution_count": null,
   "metadata": {},
   "outputs": [],
   "source": []
  },
  {
   "cell_type": "code",
   "execution_count": 6,
   "metadata": {},
   "outputs": [],
   "source": [
    "import json\n",
    "import numpy as np\n",
    "import os\n",
    "import csv"
   ]
  },
  {
   "cell_type": "code",
   "execution_count": 69,
   "metadata": {},
   "outputs": [],
   "source": [
    "confi_file = \"../../configurations/configurations_membership.csv\"\n",
    "confi_dataset_file = \"../../configurations/configurations_membership_dataset.csv\"\n",
    "res_path = \"../../../../sPMM_data/Normal/submit_CHTC/membership_{}\" # output from chtc is saved in res_path.format(set_type)\n",
    "\n",
    "confi = np.genfromtxt(confi_file, delimiter=',', dtype=float, skip_header=1)\n",
    "\n",
    "for set_type in [\"balanced\", \"unbalanced\"]:\n",
    "    for i in range(1, confi.shape[0] + 1):\n",
    "        confi_i = confi[i - 1] # corresponding configuration\n",
    "        set_index = int(confi_i[4]) # set index\n",
    "        k0_train, k1_train = int(confi_i[8]), int(confi_i[9])\n",
    "\n",
    "        save_path = './{}_{}'.format(set_type, set_index)\n",
    "        if not os.path.isdir(save_path): os.mkdir(save_path)\n",
    "\n",
    "\n",
    "        # supervised\n",
    "        if os.path.isfile(res_path.format(set_type) + \"/supervised_{}.txt\".format(i)):\n",
    "            save_to = save_path + \"/supervised_{}_{}\".format(k0_train, k1_train)\n",
    "            if not os.path.isdir(save_to): os.mkdir(save_to)\n",
    "\n",
    "            with open(res_path.format(set_type) + \"/supervised_{}.txt\".format(i), 'r') as f:\n",
    "                x = f.read()\n",
    "            supervised_res = json.loads(x)  \n",
    "            # training\n",
    "            for para in ['rho', 'Mu', 'Lambda']:\n",
    "                np.savetxt(save_to + \"/{}.csv\".format(para), np.array(supervised_res['estimation'][para]), delimiter=',', header='', fmt=\"%.5f\")\n",
    "            np.savetxt(save_to + \"/G_training.csv\", np.array(supervised_res['estimation'][\"G\"]), delimiter=',', header='', fmt=\"%.5f\")\n",
    "            # prediction \n",
    "            for ke in ['supervised_prediction', \"unsupervised_prediction\"]:\n",
    "                for para in supervised_res[ke].keys():\n",
    "                    np.savetxt(save_to + \"/{}.csv\".format(para), np.array(supervised_res[ke][para]), delimiter=',', header='', fmt=\"%.5f\")\n",
    "\n",
    "        # unsupervised\n",
    "        if os.path.isfile(res_path.format(set_type) + \"/unsupervised_{}.txt\".format(i)):\n",
    "            save_to = save_path + \"/unsupervised_{}_{}\".format(k0_train, k1_train)\n",
    "            if not os.path.isdir(save_to): os.mkdir(save_to)\n",
    "\n",
    "            with open(res_path.format(set_type) + \"/unsupervised_{}.txt\".format(i), 'r') as f:\n",
    "                x = f.read()\n",
    "            unsupervised_res = json.loads(x)  \n",
    "            # training\n",
    "            for para in ['rho', 'Mu', 'Lambda']:\n",
    "                np.savetxt(save_to + \"/{}.csv\".format(para), np.array(unsupervised_res['estimation'][para]), delimiter=',', header='', fmt=\"%.5f\")\n",
    "            np.savetxt(save_to + \"/U_training.csv\", np.array(unsupervised_res['estimation'][\"U\"]), delimiter=',', header='', fmt=\"%.5f\")\n",
    "            # prediction \n",
    "            for para in [\"U\", \"Y\"]:\n",
    "                np.savetxt(save_to + \"/{}.csv\".format(para), np.array(unsupervised_res[\"prediction\"][para]), delimiter=',', header='', fmt=\"%.5f\")\n",
    "\n",
    "        \n",
    "    "
   ]
  },
  {
   "cell_type": "code",
   "execution_count": 68,
   "metadata": {},
   "outputs": [],
   "source": []
  },
  {
   "cell_type": "code",
   "execution_count": null,
   "metadata": {},
   "outputs": [],
   "source": []
  },
  {
   "cell_type": "code",
   "execution_count": null,
   "metadata": {},
   "outputs": [],
   "source": []
  },
  {
   "cell_type": "code",
   "execution_count": null,
   "metadata": {},
   "outputs": [],
   "source": []
  },
  {
   "cell_type": "code",
   "execution_count": null,
   "metadata": {},
   "outputs": [],
   "source": []
  },
  {
   "cell_type": "code",
   "execution_count": null,
   "metadata": {},
   "outputs": [],
   "source": []
  },
  {
   "cell_type": "code",
   "execution_count": null,
   "metadata": {},
   "outputs": [],
   "source": []
  }
 ],
 "metadata": {
  "interpreter": {
   "hash": "aee8b7b246df8f9039afb4144a1f6fd8d2ca17a180786b69acc140d282b71a49"
  },
  "kernelspec": {
   "display_name": "Python 3.10.2 64-bit",
   "language": "python",
   "name": "python3"
  },
  "language_info": {
   "codemirror_mode": {
    "name": "ipython",
    "version": 3
   },
   "file_extension": ".py",
   "mimetype": "text/x-python",
   "name": "python",
   "nbconvert_exporter": "python",
   "pygments_lexer": "ipython3",
   "version": "3.10.2"
  },
  "orig_nbformat": 4
 },
 "nbformat": 4,
 "nbformat_minor": 2
}
