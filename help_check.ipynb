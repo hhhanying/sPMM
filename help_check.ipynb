{
 "cells": [
  {
   "cell_type": "code",
   "execution_count": null,
   "metadata": {},
   "outputs": [],
   "source": [
    "'''\n",
    "random.gamma(shape, scale=1.0, size=None)\n",
    "pm.Gamma: alpha, beta: beta = 1/scale\n",
    "\n",
    "random.exponential(scale=1.0, size=None) mean = scale\n",
    "pm.Exponential(1/scale)\n",
    "'''\n",
    "\n",
    "import numpy as np\n",
    "import pymc3 as pm\n",
    "import matplotlib.pyplot as plt\n",
    "\n",
    "model = pm.Model()\n",
    "with model:\n",
    "    a = pm.Gamma(\"a\", alpha = 1, beta = 0.5, shape = (5, 10))\n",
    "    aa = pm.Gamma(\"aa\", alpha = 1, beta = 0.5, shape = (5, 10))\n",
    "    b = pm.Normal(\"b\", mu = aa, sigma = pm.math.sqrt(1/a), shape = (5, 10))\n",
    "    trace = pm.sample(1000, chains = 1)\n",
    "a1, a2, b1 = trace[\"a\"], trace[\"aa\"], trace[\"b\"]\n",
    "\n",
    "c1 = (b1-a2)*np.sqrt(a1)\n",
    "print(c1.shape)\n",
    "plt.hist(c1.reshape(50000), bins=30)\n",
    "plt.show() # turns to be normal\n",
    "\n"
   ]
  }
 ],
 "metadata": {
  "language_info": {
   "name": "python"
  },
  "orig_nbformat": 4
 },
 "nbformat": 4,
 "nbformat_minor": 2
}
